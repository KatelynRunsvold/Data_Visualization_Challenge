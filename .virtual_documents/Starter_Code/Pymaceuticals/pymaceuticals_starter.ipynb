


# Dependencies and Setup
import matplotlib.pyplot as plt
import pandas as pd
import scipy.stats as st

# Study data files
mouse_metadata_path = "data/Mouse_metadata.csv"
study_results_path = "data/Study_results.csv"

# Read the mouse data and the study results
mouse_metadata = pd.read_csv(mouse_metadata_path)
study_results = pd.read_csv(study_results_path)

# Combine the data into a single DataFrame
combined_study_data = pd.merge(study_results, mouse_metadata)

# Display the data table for preview
combined_study_data.head()


# Checking the number of mice.
len(combined_study_data["Mouse ID"].unique())


# Our data should be uniquely identified by Mouse ID and Timepoint
# Get the duplicate mice by ID number that shows up for Mouse ID and Timepoint. 
duplicate_mice = combined_study_data.loc[combined_study_data.duplicated(subset=["Mouse ID", "Timepoint"]),"Mouse ID"].tolist()
duplicate_mice


# Optional: Get all the data for the duplicate mouse ID. 
duplicate_id_info = combined_study_data.loc[combined_study_data["Mouse ID"] == "g989"]
duplicate_id_info


# Create a clean DataFrame by dropping the duplicate mouse by its ID.
cleaned_combined_study_data = combined_study_data[combined_study_data["Mouse ID"].isin(duplicate_mice) ==False]
cleaned_combined_study_data.head()


# Checking the number of mice in the clean DataFrame.
len(cleaned_combined_study_data["Mouse ID"].unique())





# Generate a summary statistics table of mean, median, variance, standard deviation, and SEM of the tumor volume for each regimen

# Use groupby and summary statistical methods to calculate the following properties of each drug regimen: 
# mean, median, variance, standard deviation, and SEM of the tumor volume. 
# Assemble the resulting series into a single summary DataFrame.

mean = cleaned_combined_study_data.groupby('Drug Regimen')['Tumor Volume (mm3)'].mean()
median = cleaned_combined_study_data.groupby('Drug Regimen')['Tumor Volume (mm3)'].median()
variance = cleaned_combined_study_data.groupby('Drug Regimen')['Tumor Volume (mm3)'].var()
standard_deviation = cleaned_combined_study_data.groupby('Drug Regimen')['Tumor Volume (mm3)'].std()
sem = cleaned_combined_study_data.groupby('Drug Regimen')['Tumor Volume (mm3)'].sem()

summary = pd.DataFrame({
    "Mean Tumor Volume" : mean,
    "Median Tumor Volume" : median,
    "Tumor Volume Variance" : variance,
    "Tumor Volume Std. Dev" : standard_deviation,
    "Tumor Volume Std.Err": sem
})
summary



# A more advanced method to generate a summary statistics table of mean, median, variance, standard deviation,
# and SEM of the tumor volume for each regimen (only one method is required in the solution)

# Using the aggregation method, produce the same summary statistics in a single line
summary = cleaned_combined_study_data.groupby("Drug Regimen").agg({"Tumor Volume (mm3)":["mean","median","var","std","sem"]})
summary
                                                               





# Generate a bar plot showing the total number of rows (Mouse ID/Timepoints) for each drug regimen using Pandas.
total_rows = cleaned_combined_study_data['Drug Regimen'].value_counts()
total_rows.plot(kind = "bar")
plt.xlabel("Drug Regimen")
plt.ylabel("# of Observed Moise Timepoints")
plt.show()


# Generate a bar plot showing the total number of rows (Mouse ID/Timepoints) for each drug regimen using pyplot.
total_rows = cleaned_combined_study_data['Drug Regimen'].value_counts()
plt.bar(total_rows.index.values, total_rows.values)
plt.xlabel("Drug Regimen")
plt.ylabel("# of Observed Moise Timepoints")
plt.xticks(rotation = 90)
plt.show()


# Generate a pie plot showing the distribution of female versus male mice using Pandas
total = cleaned_combined_study_data.Sex.value_counts()
total.plot(kind = "pie", autopct = '%1.1f%%')
plt.show()


# Generate a pie plot showing the distribution of female versus male mice using pyplot
total = cleaned_combined_study_data.Sex.value_counts()
plt.pie(total.values, autopct = '%1.1f%%')
plt.ylabel("Sex")
plt.show()





# Calculate the final tumor volume of each mouse across four of the treatment regimens:  
# Capomulin, Ramicane, Infubinol, and Ceftamin

# Start by getting the last (greatest) timepoint for each mouse
largest_tumor = cleaned_combined_study_data.groupby(["Mouse ID"])["Timepoint"].max()
largest_tumor = largest_tumor.reset_index()
# Merge this group df with the original DataFrame to get the tumor volume at the last timepoint
merged_tumor_data = largest_tumor.merge(cleaned_combined_study_data, on = ["Mouse ID", "Timepoint"], how = "left")


# Put treatments into a list for for loop (and later for plot labels)
treatments = ["Capomulin", "Ramicane", "Infubinol", "Ceftamin"]

# Create empty list to fill with tumor vol data (for plotting)
tumor_volume_list = []

# Calculate the IQR and quantitatively determine if there are any potential outliers. 
for treatment in treatments:
    
    # Locate the rows which contain mice on each drug and get the tumor volumes
    tumor_volume = merged_tumor_data.loc[merged_tumor_data["Drug Regimen"] == treatment, "Tumor Volume (mm3)"]
    
    # add subset 
    tumor_volume_list.append(tumor_volume)
    
    # Determine outliers using upper and lower bounds
    quartiles = tumor_volume.quantile([.25, .5, .75])
    lower_quartile = quartiles[0.25]
    upper_quartile = quartiles[0.75]
    iqr = upper_quartile - lower_quartile
    lower_bound = lower_quartile - (1.5*iqr)
    upper_bound = upper_quartile + (1.5*iqr)
    outliers = tumor_volume.loc[(tumor_volume < lower_bound) | (tumor_volume > upper_bound)]
    print(f"{treatment} potential outliers: {outliers}")


# Generate a box plot that shows the distrubution of the tumor volume for each treatment group.
plt.boxplot(tumor_volume_list, labels = treatments)
plt.ylabel("tumor volume")
plt.show()


# find mouse id who has Capomulin regimen
cleaned_combined_study_data.head()


# Generate a line plot of tumor volume vs. time point for a single mouse treated with Capomulin
Mice_Capomulin = cleaned_combined_study_data.loc[cleaned_combined_study_data['Drug Regimen'] == 'Capomulin']
Individual_Mouse = Mice_Capomulin.loc[Mice_Capomulin['Mouse ID'] == 'b128']
plt.plot(Individual_Mouse['Timepoint'],Individual_Mouse['Tumor Volume (mm3)'])
plt.xlabel("Timepoint")
plt.ylabel("Tumor Volume")
plt.show()


# Generate a scatter plot of mouse weight vs. the average observed tumor volume for the entire Capomulin regimen
mouse_weight_tumor = Mice_Capomulin.groupby(['Mouse ID'])[["Weight (g)","Tumor Volume (mm3)"]].mean()
plt.scatter(mouse_weight_tumor["Weight (g)"],mouse_weight_tumor["Tumor Volume (mm3)"])
plt.xlabel("Weight (g)")
plt.ylabel("Tumor Volume")
plt.show()





# Calculate the correlation coefficient and a linear regression model 
# for mouse weight and average observed tumor volume for the entire Capomulin regimen




